{
 "cells": [
  {
   "cell_type": "code",
   "execution_count": null,
   "metadata": {},
   "outputs": [],
   "source": [
    "# Step 1: Create match_status column\n",
    "# If 'result' contains 'abandoned', set match_status to 'abandoned'; otherwise, 'played'\n",
    "crick_df['match_status'] = crick_df['result'].apply(\n",
    "    lambda x: 'abandoned' if 'abandoned' in x.lower() else 'played'\n",
    ")\n",
    "\n",
    "# Step 2: Create winning_team column\n",
    "def extract_winning_team(result):\n",
    "    if 'abandoned' in result.lower():\n",
    "        return None\n",
    "    elif 'won by' in result:\n",
    "        return result.split(' won by')[0]\n",
    "    return None\n",
    "\n",
    "crick_df['winning_team'] = crick_df['result'].apply(extract_winning_team)\n",
    "\n",
    "# Step 3: Extract best_batters and best_bowlers into new columns\n",
    "# Split and process 'best_batters'\n",
    "def split_batters(batter_list):\n",
    "    if isinstance(batter_list, list) and len(batter_list) > 0:\n",
    "        # Extract names and runs\n",
    "        batters = [b.split(' - ')[0] for b in batter_list]\n",
    "        runs = [int(b.split(' - ')[1].split()[0]) for b in batter_list]\n",
    "        return batters + runs\n",
    "    return [None, None, None, None]  # Fill missing values if no data\n",
    "\n",
    "# Create new columns for batters\n",
    "crick_df[['best_batter_1', 'best_batter_2', 'best_batter_1_runs', 'best_batter_2_runs']] = crick_df['best_batters'].apply(\n",
    "    split_batters\n",
    ").apply(pd.Series)\n",
    "\n",
    "# Split and process 'best_bowlers'\n",
    "def split_bowlers(bowler_list):\n",
    "    if isinstance(bowler_list, list) and len(bowler_list) > 0:\n",
    "        # Extract names and wickets\n",
    "        bowlers = [b.split(' - ')[0] for b in bowler_list]\n",
    "        wickets = [int(b.split(' - ')[1]) for b in bowler_list]\n",
    "        return bowlers + wickets\n",
    "    return [None, None, None, None]  # Fill missing values if no data\n",
    "\n",
    "# Create new columns for bowlers\n",
    "crick_df[['best_bowler_1', 'best_bowler_2', 'best_bowler_1_wick', 'best_bowler_2_wick']] = crick_df['best_bowlers'].apply(\n",
    "    split_bowlers\n",
    ").apply(pd.Series)\n",
    "\n",
    "# Step 4: Final Preview of the DataFrame\n",
    "print(crick_df[['match_status', 'winning_team', 'best_batter_1', 'best_batter_2', 'best_batter_1_runs', 'best_batter_2_runs', \n",
    "                'best_bowler_1', 'best_bowler_2', 'best_bowler_1_wick', 'best_bowler_2_wick']].head())"
   ]
  },
  {
   "cell_type": "code",
   "execution_count": null,
   "metadata": {},
   "outputs": [],
   "source": [
    "# Step 1: Identify columns to drop\n",
    "# Specify columns to remove (modify this list as necessary)\n",
    "columns_to_drop = ['commentary_line']\n",
    "\n",
    "# Drop the columns\n",
    "crick_df = crick_df.drop(columns=columns_to_drop, errors='ignore')  # Use errors='ignore' to avoid errors if column not found\n",
    "\n",
    "# Step 2: Verify the updated DataFrame structure\n",
    "print(\"\\nUpdated DataFrame Info:\")\n",
    "print(crick_df.info())\n",
    "\n",
    "# Display the remaining columns\n",
    "print(\"\\nRemaining Columns:\")\n",
    "print(crick_df.columns)\n"
   ]
  }
 ],
 "metadata": {
  "kernelspec": {
   "display_name": "base",
   "language": "python",
   "name": "python3"
  },
  "language_info": {
   "codemirror_mode": {
    "name": "ipython",
    "version": 3
   },
   "file_extension": ".py",
   "mimetype": "text/x-python",
   "name": "python",
   "nbconvert_exporter": "python",
   "pygments_lexer": "ipython3",
   "version": "3.9.13"
  }
 },
 "nbformat": 4,
 "nbformat_minor": 2
}
