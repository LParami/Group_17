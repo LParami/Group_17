{
 "cells": [
  {
   "cell_type": "code",
   "execution_count": null,
   "metadata": {
    "vscode": {
     "languageId": "plaintext"
    }
   },
   "outputs": [],
   "source": [
    "from dash import Dash, dcc, html, Input, Output\n",
    "import pandas as pd\n",
    "import plotly.express as px\n",
    "import plotly.graph_objects as go\n",
    "import re\n",
    "\n",
    "# Load the dataset\n",
    "data = pd.read_csv('output_new.csv')\n",
    "\n",
    "# Data Cleaning\n",
    "data['team_1'] = data['team_1'].fillna('Unknown')\n",
    "data['team_2'] = data['team_2'].fillna('Unknown')\n",
    "data['pom'] = data['pom'].fillna('No Award')\n",
    "data['best_batters'] = data['best_batters'].fillna('Unknown')\n",
    "data['best_bowlers'] = data['best_bowlers'].fillna('Unknown')\n",
    "data['world_cup_year'] = data['world_cup_year'].astype(str)\n",
    "\n",
    "def extract_winner(result):\n",
    "    match = re.search(r'\\b([A-Za-z\\s]+)\\s+won\\b', result)\n",
    "    if match:\n",
    "        return match.group(1).strip() \n",
    "    return None  \n",
    "\n",
    "# Initialize Dash app\n",
    "app = Dash(__name__)\n",
    "\n",
    "# App Layout\n",
    "app.layout = html.Div([\n",
    "    html.H1(\"ICC Men’s Cricket World Cup - A Journey Through History\",style={'fontSize':48,'color':'darkblue','textAlign': 'center'}),\n",
    "\n",
    "    html.Div([\n",
    "        dcc.Dropdown(\n",
    "            id='match_category_filter',\n",
    "            options=[{'label': cat, 'value': cat} for cat in data['match_category'].unique()],\n",
    "            placeholder='Select Match Category',\n",
    "            style={'width': '300px'}\n",
    "        ),\n",
    "        dcc.Dropdown(\n",
    "            id='year_filter',\n",
    "            options=[{'label': year, 'value': year} for year in data['world_cup_year'].unique()],\n",
    "            placeholder='Select Year',\n",
    "            style={'width': '300px'}\n",
    "        ),\n",
    "    ], style={'display': 'flex','flexDirection':'column','alignItems':'center','gap': '10px', 'marginBottom': '20px'}),\n",
    "\n",
    "    html.Div([\n",
    "        dcc.Graph(id='pie_chart_matches'),\n",
    "        dcc.Graph(id='bar_chart_runs'),\n",
    "        dcc.Graph(id='bar_chart_wickets'),\n",
    "        dcc.Graph(id='bar_chart_mom'),\n",
    "    ]),\n",
    "\n",
    "    html.Div([\n",
    "        dcc.Dropdown(\n",
    "            id='team_filter',\n",
    "            options=[{'label': team, 'value': team} for team in pd.concat([data['team_1'], data['team_2']]).unique()],\n",
    "            placeholder='Select Teams',\n",
    "            multi=True,\n",
    "            style={'width': '300px', 'margin': '0 auto','marginBottom': '20px'}),\n",
    "        dcc.Graph(id='line_chart_average_runs'),\n",
    "    ], style={'marginTop': '50px'}),\n",
    "\n",
    "    html.Div([\n",
    "        dcc.Graph(id='pairwise_comparison_matrix'),\n",
    "    ], style={'marginTop': '50px'})\n",
    "])"
   ]
  }
 ],
 "metadata": {
  "language_info": {
   "name": "python"
  }
 },
 "nbformat": 4,
 "nbformat_minor": 2
}
