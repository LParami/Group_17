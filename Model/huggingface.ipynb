{
 "cells": [
  {
   "cell_type": "code",
   "execution_count": 1,
   "metadata": {},
   "outputs": [
    {
     "ename": "ModuleNotFoundError",
     "evalue": "No module named 'transformers'",
     "output_type": "error",
     "traceback": [
      "\u001b[1;31m---------------------------------------------------------------------------\u001b[0m",
      "\u001b[1;31mModuleNotFoundError\u001b[0m                       Traceback (most recent call last)",
      "Cell \u001b[1;32mIn[1], line 3\u001b[0m\n\u001b[0;32m      1\u001b[0m \u001b[38;5;66;03m# Import necessary libraries\u001b[39;00m\n\u001b[0;32m      2\u001b[0m \u001b[38;5;28;01mimport\u001b[39;00m \u001b[38;5;21;01mpandas\u001b[39;00m \u001b[38;5;28;01mas\u001b[39;00m \u001b[38;5;21;01mpd\u001b[39;00m\n\u001b[1;32m----> 3\u001b[0m \u001b[38;5;28;01mfrom\u001b[39;00m \u001b[38;5;21;01mtransformers\u001b[39;00m \u001b[38;5;28;01mimport\u001b[39;00m pipeline\n\u001b[0;32m      4\u001b[0m \u001b[38;5;28;01mimport\u001b[39;00m \u001b[38;5;21;01mmatplotlib\u001b[39;00m\u001b[38;5;21;01m.\u001b[39;00m\u001b[38;5;21;01mpyplot\u001b[39;00m \u001b[38;5;28;01mas\u001b[39;00m \u001b[38;5;21;01mplt\u001b[39;00m\n\u001b[0;32m      6\u001b[0m \u001b[38;5;66;03m# Step 1: Load the dataset\u001b[39;00m\n\u001b[0;32m      7\u001b[0m \u001b[38;5;66;03m# Ensure the file path points to the correct location of your CSV file\u001b[39;00m\n",
      "\u001b[1;31mModuleNotFoundError\u001b[0m: No module named 'transformers'"
     ]
    }
   ],
   "source": [
    "# Import necessary libraries\n",
    "import pandas as pd\n",
    "from transformers import pipeline\n",
    "import matplotlib.pyplot as plt\n",
    "\n",
    "# Step 1: Load the dataset\n",
    "# Ensure the file path points to the correct location of your CSV file\n",
    "file_path = r\"E:/CASE2/CASE2/commentary/commentary_2023.csv\"\n",
    "\n",
    "try:\n",
    "    commentary_data = pd.read_csv(file_path)\n",
    "    print(\"Dataset loaded successfully.\")\n",
    "except FileNotFoundError:\n",
    "    print(f\"Error: File not found at {file_path}. Please check the file path.\")\n",
    "\n",
    "# Step 2: Fit a Hugging Face model\n",
    "# Load a pre-trained sentiment analysis model from Hugging Face\n",
    "sentiment_analyzer = pipeline(\n",
    "    \"sentiment-analysis\", \n",
    "    model=\"distilbert-base-uncased-finetuned-sst-2-english\", \n",
    "    revision=\"714eb0f\"\n",
    ")\n",
    "\n",
    "# Step 3: Apply the model to detect sentiment for each excerpt\n",
    "def detect_sentiment(text):\n",
    "    try:\n",
    "        # Process text within the token limit of the model\n",
    "        result = sentiment_analyzer(text[:512])[0]\n",
    "        return result['label']\n",
    "    except Exception as e:\n",
    "        print(f\"Error processing text: {text}\\nError: {e}\")\n",
    "        return \"Error\"\n",
    "\n",
    "# Add the sentiment to the dataset as a new column\n",
    "commentary_data['sentiment'] = commentary_data['commentary'].apply(detect_sentiment)\n",
    "\n",
    "# Step 4: Provide the rationale\n",
    "rationale = \"\"\"\n",
    "We chose the Hugging Face pre-trained sentiment-analysis model due to its:\n",
    "1. High accuracy on diverse text datasets.\n",
    "2. Accessibility and ease of integration.\n",
    "3. Ability to generalize across multiple domains, making it ideal for commentary excerpts analysis.\n",
    "\"\"\"\n",
    "print(\"Rationale for choosing the Hugging Face model:\\n\", rationale)\n",
    "\n",
    "# Step 5: Visualize the sentiment spread\n",
    "try:\n",
    "    sentiment_counts = commentary_data['sentiment'].value_counts()\n",
    "    sentiment_counts.plot(kind='bar', color=['green', 'red', 'blue'])\n",
    "    plt.title('Sentiment Spread')\n",
    "    plt.xlabel('Sentiment')\n",
    "    plt.ylabel('Number of Comments')\n",
    "    plt.xticks(rotation=0)\n",
    "    plt.show()\n",
    "except Exception as e:\n",
    "    print(f\"Error generating plot: {e}\")\n",
    "\n",
    "# Step 6: Save the updated dataset\n",
    "updated_file_path = 'commentary_2023_updated.csv'\n",
    "\n",
    "try:\n",
    "    commentary_data.to_csv(updated_file_path, index=False)\n",
    "    print(f\"Updated dataset saved successfully to {updated_file_path}.\")\n",
    "except Exception as e:\n",
    "    print(f\"Error saving file: {e}\")        "
   ]
  }
 ],
 "metadata": {
  "kernelspec": {
   "display_name": "Python 3",
   "language": "python",
   "name": "python3"
  },
  "language_info": {
   "codemirror_mode": {
    "name": "ipython",
    "version": 3
   },
   "file_extension": ".py",
   "mimetype": "text/x-python",
   "name": "python",
   "nbconvert_exporter": "python",
   "pygments_lexer": "ipython3",
   "version": "3.13.0"
  }
 },
 "nbformat": 4,
 "nbformat_minor": 2
}
